{
 "cells": [
  {
   "cell_type": "markdown",
   "metadata": {},
   "source": [
    "## Poet Bot"
   ]
  },
  {
   "cell_type": "code",
   "execution_count": 1,
   "metadata": {
    "collapsed": true
   },
   "outputs": [],
   "source": [
    "import markovify\n",
    "import nltk\n",
    "import string\n",
    "import random"
   ]
  },
  {
   "cell_type": "code",
   "execution_count": 2,
   "metadata": {},
   "outputs": [],
   "source": [
    "#nltk.download()"
   ]
  },
  {
   "cell_type": "code",
   "execution_count": 3,
   "metadata": {
    "collapsed": true
   },
   "outputs": [],
   "source": [
    "def rhyme(word, level):\n",
    "     entries = nltk.corpus.cmudict.entries()\n",
    "     syllables = [(w, syl) for w, syl in entries if w == word]\n",
    "     rhymes = []\n",
    "     for (w, syllable) in syllables:\n",
    "             rhymes += [w for w, pron in entries if pron[-level:] == syllable[-level:]]\n",
    "     return list(rhymes)\n",
    "\n",
    "def doTheyRhyme(word1, word2):\n",
    "  # first, we don't want to report 'glue' and 'unglue' as rhyming words\n",
    "  # those kind of rhymes are LAME\n",
    "  if word1.find(word2) == len(word1) - len(word2):\n",
    "      return False\n",
    "  if word2.find(word1) == len(word2) - len(word1): \n",
    "      return False\n",
    "\n",
    "  return word1 in rhyme(word2, 1)"
   ]
  },
  {
   "cell_type": "code",
   "execution_count": 4,
   "metadata": {
    "collapsed": true
   },
   "outputs": [],
   "source": [
    "# Get raw text as string.\n",
    "with open(\"data/shakespeare_sonnets.txt\") as f:\n",
    "    sonnets = f.read()\n",
    "with open(\"data/foxinsocks.txt\") as f:\n",
    "    foxinsocks = f.read()\n",
    "\n",
    "# Build the model.\n",
    "model_a = markovify.NewlineText(sonnets)\n",
    "model_b = markovify.NewlineText(foxinsocks)\n",
    "\n",
    "#combine models (put 50% more weight on shakespear)\n",
    "model_combo = markovify.combine([ model_a, model_b ], [ .2, 2 ])"
   ]
  },
  {
   "cell_type": "code",
   "execution_count": 5,
   "metadata": {
    "code_folding": [],
    "collapsed": true
   },
   "outputs": [],
   "source": [
    "def get_rhyme_line(poem, n):\n",
    "    #n is how many lines back you want this line to rhyme with\n",
    "    max_syllables = 3\n",
    "    for attempt in range(max_syllables):       \n",
    "        rhymes = rhyme(poem[n].split()[-1].translate(translator), max_syllables-attempt)\n",
    "        if len(rhymes) > 0:\n",
    "            #print(attempt)\n",
    "            #print(rhymes[0:4])\n",
    "            break\n",
    "\n",
    "    if len(rhymes) == 0:\n",
    "        new_test_line = model_combo.make_sentence(tries=100)\n",
    "        #print(new_test_line)\n",
    "        if new_test_line is not None:\n",
    "            new_rhyme = new_test_line.rstrip(string.punctuation) + \" \" + \"no rhyme\"\n",
    "            poem.append(new_rhyme)\n",
    "        else:\n",
    "            print(\"empty line\")\n",
    "    else:       \n",
    "        rindex = random.randint(0,len(rhymes)-1)\n",
    "        #print(rindex)\n",
    "        #print(rhymes[rindex])\n",
    "        line_rhymes = False\n",
    "        for t in range(100):\n",
    "            test_line = model_combo.make_sentence(tries=100)\n",
    "            if test_line.split()[-1] in rhymes:\n",
    "                poem.append(test_line)\n",
    "                line_rhymes = True\n",
    "                break\n",
    "        if line_rhymes == False:\n",
    "            new_test_line = model_combo.make_sentence(tries=100)\n",
    "            #print(new_test_line)\n",
    "            if new_test_line is not None:\n",
    "                new_rhyme = new_test_line.rstrip(string.punctuation) + \" \" + rhymes[rindex]\n",
    "                poem.append(new_rhyme)\n",
    "            else:\n",
    "                print(\"empty rhyme line\")"
   ]
  },
  {
   "cell_type": "code",
   "execution_count": 6,
   "metadata": {},
   "outputs": [
    {
     "name": "stdout",
     "output_type": "stream",
     "text": [
      "And found such fair assistance in my self a motley to the world is grown so bad,\n",
      "To dry the rain on my love engrafted, to this purpose, that her skill\n",
      "Sue sews crow's clothes forbad\n",
      "Whilst he upon your dearest love to score kille\n",
      "Which I by this separation I may not evermore acknowledge thee,\n",
      "And whether that my name thy love, though much, is not so bright\n",
      "Look, sir. Mr. Knox, please thee\n",
      "When sometime lofty towers I see their antique pen would have express'd fright\n",
      "This thought is as fair in knowledge as in hue,\n",
      "And you and love that doth cover every blot\n",
      "If thou turn back to me, nor I to none alive hewe\n",
      "You can make a quick trick brick stack allot\n",
      "And therefore from my self am mortgag'd to thy sensual fault I bring in sense,--\n",
      "And tongues to praise ferenc\n"
     ]
    }
   ],
   "source": [
    "#make a sonnet\n",
    "#rhyme(word, level)\n",
    "translator=str.maketrans('','',string.punctuation)\n",
    "bot_poem = []\n",
    "# Print five randomly-generated sentences\n",
    "for i in range(3):\n",
    "    for n in range(4):\n",
    "        if n <= 1: # append to array\n",
    "            bot_poem.append(model_combo.make_sentence(tries=100))\n",
    "        elif n >= 2: #ensure it rhymes with proper line then append to array\n",
    "            get_rhyme_line(bot_poem, -2)\n",
    "\n",
    "#penultimate line\n",
    "bot_poem.append(model_combo.make_sentence(tries=100))\n",
    "#final line\n",
    "get_rhyme_line(bot_poem, -1)\n",
    "    \n",
    "# Print three randomly-generated sentences of no more than 140 characters\n",
    "for line in bot_poem:\n",
    "    print(line)"
   ]
  },
  {
   "cell_type": "code",
   "execution_count": null,
   "metadata": {
    "collapsed": true
   },
   "outputs": [],
   "source": []
  },
  {
   "cell_type": "code",
   "execution_count": 7,
   "metadata": {},
   "outputs": [
    {
     "name": "stdout",
     "output_type": "stream",
     "text": [
      "Nor did I wonder at the sun's eye,\n",
      "And like enough thou know'st I love thee not,\n",
      "and the beetle battle puddle is a puddle on a poodle and the poodle's eating noodles...\n",
      "Let's do tricks with chicks and chicks on fox.\n",
      "That thou no form delivers to the gaudy spring,\n",
      "O! give thy self the thanks, if aught in me each part will be a tatter'd weed of small worth held:\n",
      "Commanded by the motion of thine age shalt see,\n",
      "Yet, do thy office, Muse; I teach thee how to make our appetite more keen,\n"
     ]
    }
   ],
   "source": [
    "# Print five randomly-generated sentences\n",
    "for i in range(5):\n",
    "    print(model_combo.make_sentence(tries=100))\n",
    "\n",
    "# Print three randomly-generated sentences of no more than 140 characters\n",
    "for i in range(3):\n",
    "    print(model_combo.make_short_sentence(140, tries=100))"
   ]
  },
  {
   "cell_type": "code",
   "execution_count": null,
   "metadata": {
    "collapsed": true
   },
   "outputs": [],
   "source": []
  }
 ],
 "metadata": {
  "kernelspec": {
   "display_name": "Python 3",
   "language": "python",
   "name": "python3"
  },
  "language_info": {
   "codemirror_mode": {
    "name": "ipython",
    "version": 3
   },
   "file_extension": ".py",
   "mimetype": "text/x-python",
   "name": "python",
   "nbconvert_exporter": "python",
   "pygments_lexer": "ipython3",
   "version": "3.6.3"
  },
  "toc": {
   "nav_menu": {},
   "number_sections": true,
   "sideBar": true,
   "skip_h1_title": false,
   "title_cell": "Table of Contents",
   "title_sidebar": "Contents",
   "toc_cell": false,
   "toc_position": {},
   "toc_section_display": true,
   "toc_window_display": false
  }
 },
 "nbformat": 4,
 "nbformat_minor": 2
}
